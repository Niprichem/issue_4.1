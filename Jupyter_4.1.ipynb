{
 "cells": [
  {
   "cell_type": "code",
   "execution_count": 1,
   "metadata": {},
   "outputs": [
    {
     "name": "stdout",
     "output_type": "stream",
     "text": [
      "         Count\n",
      "Name          \n",
      "John      9701\n",
      "William   9562\n",
      "Mary      7092\n",
      "         Count\n",
      "Name          \n",
      "James   111795\n",
      "John    109595\n",
      "Robert  101381\n",
      "               Count\n",
      "Year Gender         \n",
      "1900 F        299810\n",
      "     M        150486\n",
      "1950 F       1713259\n",
      "     M       1790871\n",
      "2000 F       1814922\n",
      "     M       1962744\n"
     ]
    }
   ],
   "source": [
    "import os\n",
    "import pandas as pd\n",
    "\n",
    "\n",
    "def top_count_names(path, years, top_count):\n",
    "    cols =['Name', 'Gender', 'Count']\n",
    "    data_list = [pd.read_csv(os.path.join(path, 'yob{}.txt'.format(year)), names=cols)\n",
    "        for year in years]\n",
    "    pd_data = pd.concat(data_list).groupby('Name').sum()\n",
    "    top_pd_data = pd_data.sort_values(by='Count', ascending=False).head(top_count)\n",
    "    return top_pd_data\n",
    "\n",
    "\n",
    "def gender_count_dynamics(path, years):\n",
    "    cols =['Name', 'Gender', 'Count']\n",
    "    data = {year: pd.read_csv(os.path.join(path, 'yob{}.txt'.format(year)), names=cols)\n",
    "        for year in years}\n",
    "    pd_data = pd.concat(data, names=['Year'])\n",
    "    pd_data_gender = pd_data.groupby(['Year', 'Gender']).sum()\n",
    "    return pd_data_gender\n",
    "\n",
    "\n",
    "def main():\n",
    "    path = 'names'\n",
    "\n",
    "    all_years = ((1880,), (1900, 1950, 2000))\n",
    "    top_count = 3\n",
    "    for years in all_years:\n",
    "        print(top_count_names(path, years, top_count))\n",
    "\n",
    "    years = (1900, 1950, 2000)\n",
    "    print(gender_count_dynamics(path, years))\n",
    "\n",
    "\n",
    "if __name__ == '__main__':\n",
    "    main()\n",
    "\n"
   ]
  },
  {
   "cell_type": "code",
   "execution_count": null,
   "metadata": {
    "collapsed": true
   },
   "outputs": [],
   "source": []
  }
 ],
 "metadata": {
  "kernelspec": {
   "display_name": "Python 3",
   "language": "python",
   "name": "python3"
  },
  "language_info": {
   "codemirror_mode": {
    "name": "ipython",
    "version": 3
   },
   "file_extension": ".py",
   "mimetype": "text/x-python",
   "name": "python",
   "nbconvert_exporter": "python",
   "pygments_lexer": "ipython3",
   "version": "3.6.3"
  }
 },
 "nbformat": 4,
 "nbformat_minor": 2
}
