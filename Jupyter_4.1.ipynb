{
 "cells": [
  {
   "cell_type": "code",
   "execution_count": null,
   "metadata": {
    "collapsed": true
   },
   "outputs": [],
   "source": [
    "import os\n",
    "import pandas as pd\n",
    "\n",
    "\n",
    "def count_top3(path, years):\n",
    "    cols =['name', 'gender', 'count']\n",
    "    data_list = [pd.read_csv(os.path.join(path, 'yob{}.txt'.format(year)), names=cols)\n",
    "        for year in years]\n",
    "    data = data_list[0]\n",
    "    for d in data_list[1:]:\n",
    "        data.merge(d, on='name')\n",
    "    return data.sort_values(by='count', ascending=False)[:3]\n",
    "\n",
    "\n",
    "def main():\n",
    "    path = 'names'\n",
    "    all_years = ((1880,), (1900, 1950, 2000))\n",
    "    for years in all_years:\n",
    "        print(count_top3(path, years))\n",
    "\n",
    "\n",
    "if __name__ == '__main__':\n",
    "    main()\n"
   ]
  }
 ],
 "metadata": {
  "kernelspec": {
   "display_name": "Python 2",
   "language": "python",
   "name": "python2"
  },
  "language_info": {
   "codemirror_mode": {
    "name": "ipython",
    "version": 2
   },
   "file_extension": ".py",
   "mimetype": "text/x-python",
   "name": "python",
   "nbconvert_exporter": "python",
   "pygments_lexer": "ipython2",
   "version": "2.7.6"
  }
 },
 "nbformat": 4,
 "nbformat_minor": 0
}
